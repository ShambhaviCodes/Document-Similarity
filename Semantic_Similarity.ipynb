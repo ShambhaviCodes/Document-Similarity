{
  "nbformat": 4,
  "nbformat_minor": 0,
  "metadata": {
    "colab": {
      "name": "Semantic_Similarity.ipynb",
      "provenance": [],
      "collapsed_sections": []
    },
    "kernelspec": {
      "name": "python3",
      "display_name": "Python 3"
    }
  },
  "cells": [
    {
      "cell_type": "code",
      "metadata": {
        "id": "giWtuubdK0zw",
        "colab_type": "code",
        "colab": {}
      },
      "source": [
        "from google.colab import drive\n",
        "import os\n",
        "\n",
        "# mount Google Drive\n",
        "# When you mount it, you will be asked for permission, so allow it, copy the key, paste it in the input field on the Colab side, and press Enter.\n",
        "drive.mount('/gdrive')"
      ],
      "execution_count": null,
      "outputs": []
    },
    {
      "cell_type": "code",
      "metadata": {
        "id": "4WpyPvC74CWv",
        "colab_type": "code",
        "colab": {}
      },
      "source": [
        "! pip install fasttext"
      ],
      "execution_count": null,
      "outputs": []
    },
    {
      "cell_type": "code",
      "metadata": {
        "id": "Y_w6fqrcK6vG",
        "colab_type": "code",
        "colab": {}
      },
      "source": [
        "#Importing necessary libraries\n",
        "import pandas as pd\n",
        "import string\n",
        "import contextlib\n",
        "import re\n",
        "import scipy\n",
        "import fasttext \n",
        "import numpy as np\n",
        "import nltk\n",
        "nltk.download('stopwords')\n",
        "from nltk.corpus import stopwords\n",
        "fasttext.FastText.eprint = print"
      ],
      "execution_count": null,
      "outputs": []
    },
    {
      "cell_type": "code",
      "metadata": {
        "id": "IcOZ5k8bLwVE",
        "colab_type": "code",
        "colab": {}
      },
      "source": [
        "#Function to open and read the files and return text outputs\n",
        "def load_doc(filename):\n",
        "    with open(filename, 'r') as file:\n",
        "        text = file.read()\n",
        "    return text"
      ],
      "execution_count": 4,
      "outputs": []
    },
    {
      "cell_type": "code",
      "metadata": {
        "id": "MtnSe5IqL4Zw",
        "colab_type": "code",
        "colab": {}
      },
      "source": [
        "#Preprocessing and Cleaning the files\n",
        "def clean_doc(doc):\n",
        "     tokens = doc.split()\n",
        "     re_punc = re.compile('[%s]' % re.escape(string.punctuation))\n",
        "     tokens = [re_punc.sub('', w) for w in tokens]\n",
        "     tokens = [word for word in tokens if word.isalpha()]\n",
        "     stop_words = set(stopwords.words('english'))\n",
        "     tokens = [w for w in tokens if not w in stop_words]\n",
        "     tokens = [word for word in tokens if len(word) > 1]\n",
        "     return tokens"
      ],
      "execution_count": 5,
      "outputs": []
    },
    {
      "cell_type": "code",
      "metadata": {
        "id": "0Hos82dRMS3W",
        "colab_type": "code",
        "colab": {}
      },
      "source": [
        "#Calculation of similarity score between the base_document and query\n",
        "def cosine_similarity_score(base_document, query):\n",
        "    with open(os.devnull, \"w\") as f, contextlib.redirect_stdout(f):\n",
        "        model = fasttext.load_model('/gdrive/My Drive/cc.en.300.bin')\n",
        "    base_vector = np.mean([model[word] for word in base], axis=0)\n",
        "    query_vector = np.mean([model[word] for word in query], axis=0)\n",
        "    cosine = scipy.spatial.distance.cosine(base_document, query_vector)\n",
        "    return (round((1-cosine)*100,2),'%')"
      ],
      "execution_count": 6,
      "outputs": []
    },
    {
      "cell_type": "code",
      "metadata": {
        "id": "NLfBhQySMnAF",
        "colab_type": "code",
        "colab": {}
      },
      "source": [
        "queries = pd.read_csv('/gdrive/My Drive/Queries.csv' , encoding = 'unicode_escape')\n",
        "queries_df = pd.DataFrame(queries) \n",
        "\n",
        "tokenized_queries = [clean_doc(text) for text in queries['text']]"
      ],
      "execution_count": 7,
      "outputs": []
    },
    {
      "cell_type": "code",
      "metadata": {
        "id": "zPJZtvRNMvmK",
        "colab_type": "code",
        "colab": {}
      },
      "source": [
        "doc = load_doc('/gdrive/My Drive/S1.txt')\n",
        "base_document = clean_doc(doc)"
      ],
      "execution_count": 8,
      "outputs": []
    },
    {
      "cell_type": "code",
      "metadata": {
        "id": "dAtz9fgKM0u3",
        "colab_type": "code",
        "colab": {}
      },
      "source": [
        "score = []\n",
        "for tokens_query in tokenized_queries:\n",
        "    score.append(cosine_similarity_score(base_document, tokens_query))"
      ],
      "execution_count": null,
      "outputs": []
    },
    {
      "cell_type": "code",
      "metadata": {
        "id": "euemCiqDYUOE",
        "colab_type": "code",
        "colab": {}
      },
      "source": [
        "#Appending scores to the dataframe\n",
        "queries_df['score'] = score"
      ],
      "execution_count": null,
      "outputs": []
    },
    {
      "cell_type": "code",
      "metadata": {
        "id": "GeaP1YOAM8Rm",
        "colab_type": "code",
        "colab": {}
      },
      "source": [
        "#Saving output in (.CSV) format\n",
        "queries_df.to_csv('/gdrive/My Drive/semantic_similarity.csv')"
      ],
      "execution_count": null,
      "outputs": []
    }
  ]
}