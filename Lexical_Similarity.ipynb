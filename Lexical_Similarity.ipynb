{
 "cells": [
  {
   "cell_type": "code",
   "execution_count": 11,
   "metadata": {},
   "outputs": [],
   "source": [
    "from nltk.corpus import stopwords\n",
    "import string\n",
    "import re\n",
    "from collections import Counter\n",
    "import pandas as pd"
   ]
  },
  {
   "cell_type": "code",
   "execution_count": 12,
   "metadata": {},
   "outputs": [],
   "source": [
    "#Function to open and read the files and return text outputs\n",
    "def load_doc(filename):\n",
    "    with open(filename, 'r') as file:\n",
    "        text = file.read()\n",
    "    return text"
   ]
  },
  {
   "cell_type": "code",
   "execution_count": 13,
   "metadata": {},
   "outputs": [],
   "source": [
    "#Preprocessing and Cleaning the files\n",
    "def clean_doc(doc):\n",
    "     tokens = doc.split()\n",
    "     re_punc = re.compile('[%s]' % re.escape(string.punctuation))\n",
    "     tokens = [re_punc.sub('', w) for w in tokens]\n",
    "     tokens = [word for word in tokens if word.isalpha()]\n",
    "     stop_words = set(stopwords.words('english'))\n",
    "     tokens = [w for w in tokens if not w in stop_words]\n",
    "     tokens = [word for word in tokens if len(word) > 1]\n",
    "     return tokens"
   ]
  },
  {
   "cell_type": "code",
   "execution_count": 10,
   "metadata": {},
   "outputs": [],
   "source": [
    "#Calculation of similarity score between the base_document and query\n",
    "def jaccard_similarity(query, document):\n",
    "      intersection = set(query).intersection(set(document))\n",
    "      union = set(query).union(set(document))\n",
    "      return len(intersection)/len(union)"
   ]
  },
  {
   "cell_type": "code",
   "execution_count": 7,
   "metadata": {},
   "outputs": [],
   "source": [
    "doc = load_doc('S1.txt')"
   ]
  },
  {
   "cell_type": "code",
   "execution_count": 8,
   "metadata": {},
   "outputs": [],
   "source": [
    "final = clean_doc(doc)"
   ]
  },
  {
   "cell_type": "code",
   "execution_count": 14,
   "metadata": {
    "scrolled": true
   },
   "outputs": [],
   "source": [
    "queries = pd.read_csv('Queries.csv' , encoding = 'unicode_escape')\n",
    "df = pd.DataFrame(queries) \n",
    "\n",
    "tokenized = [clean_doc(text) for text in queries['text']]"
   ]
  },
  {
   "cell_type": "code",
   "execution_count": 15,
   "metadata": {},
   "outputs": [],
   "source": [
    "score = []\n",
    "for i in tokenized:\n",
    "    score.append(jaccard_similarity(final, i))"
   ]
  },
  {
   "cell_type": "code",
   "execution_count": 16,
   "metadata": {},
   "outputs": [],
   "source": [
    "df['score'] = score"
   ]
  },
  {
   "cell_type": "code",
   "execution_count": 17,
   "metadata": {},
   "outputs": [],
   "source": [
    "df.to_csv(r'jaccard_similarity.csv')"
   ]
  },
  {
   "cell_type": "code",
   "execution_count": null,
   "metadata": {},
   "outputs": [],
   "source": []
  }
 ],
 "metadata": {
  "kernelspec": {
   "display_name": "Python 3",
   "language": "python",
   "name": "python3"
  },
  "language_info": {
   "codemirror_mode": {
    "name": "ipython",
    "version": 3
   },
   "file_extension": ".py",
   "mimetype": "text/x-python",
   "name": "python",
   "nbconvert_exporter": "python",
   "pygments_lexer": "ipython3",
   "version": "3.7.3"
  }
 },
 "nbformat": 4,
 "nbformat_minor": 2
}
